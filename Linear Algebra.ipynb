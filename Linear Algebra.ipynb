{
 "cells": [
  {
   "cell_type": "code",
   "execution_count": null,
   "id": "ca832aa4",
   "metadata": {},
   "outputs": [],
   "source": []
  }
 ],
 "metadata": {
  "kernelspec": {
   "display_name": "Python (venv_name)",
   "language": "python",
   "name": "venv_name"
  }
 },
 "nbformat": 4,
 "nbformat_minor": 5
}
