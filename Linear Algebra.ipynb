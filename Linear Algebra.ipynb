{
 "cells": [
  {
   "cell_type": "markdown",
   "id": "b0bc1cde",
   "metadata": {},
   "source": [
    "# Linear Algebra"
   ]
  },
  {
   "cell_type": "code",
   "execution_count": 1,
   "id": "ca832aa4",
   "metadata": {},
   "outputs": [],
   "source": [
    "import torch"
   ]
  },
  {
   "cell_type": "markdown",
   "id": "73b8da49",
   "metadata": {},
   "source": [
    "## Scalars\n",
    "\n",
    "Most everyday mathematics consists of manipulating numbers one at a time. Formally we call these values **scalars**. We denote scalars by ordinary lower-cased letters (e.g., x, y, and z) and the space of all (continuous) **real-valued scalars** by *R* (*font differnece doesn't come through in markdown*). \n",
    "\n",
    "For now, remember that the expression x ∈ *R* is a formal way to say that x is a real-valued scalar. The symbol ∈ (pronounced \"in\") denotes membership in a set. "
   ]
  },
  {
   "cell_type": "code",
   "execution_count": 2,
   "id": "8df566ed",
   "metadata": {},
   "outputs": [
    {
     "data": {
      "text/plain": [
       "(tensor(5.), tensor(6.), tensor(1.5000), tensor(9.))"
      ]
     },
     "execution_count": 2,
     "metadata": {},
     "output_type": "execute_result"
    }
   ],
   "source": [
    "x = torch.tensor(3.0)\n",
    "y = torch.tensor(2.0)\n",
    "\n",
    "x + y, x * y, x / y, x**y"
   ]
  },
  {
   "cell_type": "markdown",
   "id": "c9d942bf",
   "metadata": {},
   "source": [
    "## Vectors\n",
    "\n",
    "For now, think of a **vector** as a **fixed-length array** of scalars. As with their code counterparts, we call these scalars the **elements** of the vector (*synonyms include entries and componenets*). Take a real-world example. If we were training a model to predict the risk of a loan defaulting, we might associate each applicant with a vector whose elements correspond to quantities like their income, length of employment, or number of previous defaults.\n",
    "\n",
    "We denote vectors by bold lowercase letters (e.g., **x**, **y**, and **z**). Vectors are implemented as **1st-order tensors**. In general, such tensors can have arbitrary lengths, subject to memory limitations.\n",
    "\n",
    "*A note of caution*. In Python, a vector's indicies start at 0, also known as *zero-based indexing*, whereas in linear algebra subscripts begin at 1 (*one-based indexing*)"
   ]
  },
  {
   "cell_type": "code",
   "execution_count": 3,
   "id": "cd130b68",
   "metadata": {},
   "outputs": [
    {
     "data": {
      "text/plain": [
       "tensor([0, 1, 2])"
      ]
     },
     "execution_count": 3,
     "metadata": {},
     "output_type": "execute_result"
    }
   ],
   "source": [
    "x = torch.arange(3)\n",
    "x"
   ]
  },
  {
   "cell_type": "markdown",
   "id": "bca0978c",
   "metadata": {},
   "source": [
    "We can refer to an element of a vector by using a subscript. For example, x<sub>2</sub> denotes the second element of **x**. Since x<sub>2</sub> is a scalar, we don't bold it. By default, we visualize vectors by stacking their elements vertically. "
   ]
  },
  {
   "cell_type": "code",
   "execution_count": 4,
   "id": "9b65a90b",
   "metadata": {},
   "outputs": [
    {
     "data": {
      "text/plain": [
       "tensor(2)"
      ]
     },
     "execution_count": 4,
     "metadata": {},
     "output_type": "execute_result"
    }
   ],
   "source": [
    "x[2]"
   ]
  },
  {
   "cell_type": "markdown",
   "id": "4bbdbb74",
   "metadata": {},
   "source": [
    "In doing so, x<sub>1</sub> . . . x<sub>n</sub> are elements of the vector. Later on, we will distinguish between such **column vectors** and **row vectors** whose elements are stacked horizontally. To indicate that a vector contains *n* elements, we would write **x ∈ R<sup>n</sup>**. Formally we call *n* the **dimensionality** of the vector.\n",
    "\n",
    "In code, this is related to the tensor's length which we can access using Python's `len` function."
   ]
  },
  {
   "cell_type": "code",
   "execution_count": 5,
   "id": "abdb57fe",
   "metadata": {},
   "outputs": [
    {
     "data": {
      "text/plain": [
       "3"
      ]
     },
     "execution_count": 5,
     "metadata": {},
     "output_type": "execute_result"
    }
   ],
   "source": [
    "len(x)"
   ]
  },
  {
   "cell_type": "markdown",
   "id": "4b6408c0",
   "metadata": {},
   "source": []
  }
 ],
 "metadata": {
  "kernelspec": {
   "display_name": "Python (venv)",
   "language": "python",
   "name": "venv"
  },
  "language_info": {
   "codemirror_mode": {
    "name": "ipython",
    "version": 3
   },
   "file_extension": ".py",
   "mimetype": "text/x-python",
   "name": "python",
   "nbconvert_exporter": "python",
   "pygments_lexer": "ipython3",
   "version": "3.12.3"
  }
 },
 "nbformat": 4,
 "nbformat_minor": 5
}
