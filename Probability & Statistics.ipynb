{
 "cells": [
  {
   "cell_type": "code",
   "execution_count": null,
   "id": "e52631f6",
   "metadata": {},
   "outputs": [],
   "source": []
  }
 ],
 "metadata": {
  "kernelspec": {
   "display_name": "Python (venv_name)",
   "language": "python",
   "name": "venv_name"
  }
 },
 "nbformat": 4,
 "nbformat_minor": 5
}
