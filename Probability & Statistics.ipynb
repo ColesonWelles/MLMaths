{
 "cells": [
  {
   "cell_type": "markdown",
   "id": "c711805e-7056-444c-aff7-38d41533f364",
   "metadata": {},
   "source": [
    "# Probability and Statistics\n",
    "\n",
    "Much of machine learning is also about uncertainty. In supervised learning, we hope to predict something unknown given something known (targets vs features). Models that are trained in this way attempt to predict the mostly likely value of a given target. Alternatively, these models may attempt to predict the value with the smallest expected distance from the target while also trying to *quantify our uncertainty*. \n",
    "\n",
    "With models under unsupervised learning, we especially care about uncertainty. We do so in order to determine whether a set of measurements are anomalous or to know how likely a set of values are in a given population. \n",
    "\n",
    "With reinforcement learning, the dream is to develop agents that can act intelligently under a variety of conditions and within a variety of environments. This presupposes a need to be able to reason about how an environment may be expected to change and what rewards a model might expect to encounter as result of a various possible actions it could take. \n",
    "\n",
    "\n",
    "**Probability** is the field of mathematics that covers all of these concerns vis a vis reasoning under uncertainity. The use of probabilities to describe the frequencies of repeatable events is pretty standard practice. Broadly speaking, **frequentists** adhere to an interpretation of probability that only applies to repeatable events. By contrast, **Bayesians** use the language of probability more broadly to formalize reasoning under uncertainty.\n",
    "\n",
    "Bayesian probability is characterized by two unique features:\n",
    "\n",
    "1) assigning degrees of belief to non-repreatable events e.g., \"what is the *probability* that a dam will collapse?\"\n",
    "\n",
    "2) subjectivity. While Bayesian probability provides unambiguous rules for how one should update their beliefs in light of new evidence, it allows for different individuals to start off with different *prior* beliefs.\n",
    "\n",
    "**Statistics** helps us to reason backwards, starting off with collection and organization of data and backing out to what inferences we might draw about the process that generated the data. Whenever we analye a dataset, hunting for patterns that we hope might characterize a broader population, we are employing statistical thinking. "
   ]
  },
  {
   "cell_type": "code",
   "execution_count": 1,
   "id": "dd5651b4-33c3-44ab-9b14-488bf190e6e4",
   "metadata": {},
   "outputs": [],
   "source": [
    "%matplotlib inline\n",
    "import random\n",
    "import torch\n",
    "from torch.distributions.multinomial import Multinomial"
   ]
  },
  {
   "cell_type": "markdown",
   "id": "bf9c50bc-25d7-4892-b4fc-4cfba8930d30",
   "metadata": {},
   "source": [
    "## Starting off simply: Flipping Coins\n",
    "\n",
    "Imagine that we plan to toss a coin and want to quantify how likely we are to see heads or tails. If the coin is *fair*, the both outcomes are equally likely. Moreover if we plan nto toss the coin *n* times then the fraction of heads that we *expect* to see should exactly match the *expected* fraction of tails. \n",
    "\n",
    "One intuitive way to see this is by symmetry. For every possible outcome with n<sub>h</sub> heads and n<sub>t</sub> = (n - n<sub>h</sub> tails, there is an equally likely outcome with n<sub>t</sub> heads and n<sub>h</sub> tails. Notice that this is only possible if on average we expect 1/2 of the tosses to come up heads and 1/2 to come up tails. In practice, if you conduct this experiment many times with n = 1000000 tosses each, you might never see a trial where n<sub>h</sub> = n<sub>t</sub> exactly. \n",
    "\n",
    "More formally, the quantity 1/2 is referred to as a **probability** and here it captures the certainty with which any given toss will come up heads. Probabilities assign scores between 0 and 1 to outcomes of interest, known as **events**. Here the event of interest is heads and we denote the corresponding probability *P*(heads). A probability of 1 indicates absolute certainty and a probability of 0 indicates impossibility. The frequencies n<sub>h</sub> / n and n<sub>t</sub> / n **are not probabilities but rather statistics**. \n",
    "\n",
    "**Probabilities are theoretical quantities** that underly the data generating process. In our example, the probability 1/2 is a property of the coin itself. By contrast, **statistics are imperical quantities** that are computed as functions of the observed data. Our interests in probabilistic and statistical quantities are inextricably intertwined. Specially designed statistics are called **estimators** that produce **estimates** of model parameters such as probabilities on a given dataset. \n",
    "\n",
    "Moreover, when those estimators satisfy a property called **consistency**, our estimates will converge to the corresponding probability. These inferred probabilities, in turn, tell us about the likely statistical properties of data from the same population that we might encounter in the future. \n",
    "\n",
    "Imagine that we found a real coin for which we did not know the true *P*(heads). To determine this quantity with statistical methods, we need to:\n",
    "\n",
    "1) collect some data\n",
    "\n",
    "2) design an estimator\n",
    "\n",
    "Data aquisition here is easy since we can flip the coin many times and record all the outcomes. Formally, drawing realizations from some underlying random process is called **sampling**. As you might have guessed, one natural estimator is the ratio of the number of observed heads to the total number of tosses. \n",
    "\n",
    "Suppose that the coin was in fact fair, i.e., *P*(heads) = 0.5. To simulate tosses of a fair coin, we can invoke any random number generator. There are some easy ways to draw samples of an event with probability 0.5. For example Python's `random.random` yields number in the interval [0, 1] where the probability of lying in any sub-interval [a, b] ⊂ [0, 1] is equal to b - a. Thus we can get out 0 and 1 with probability 0.5 each by testing whether the returned float number is greater than 0.5:"
   ]
  },
  {
   "cell_type": "code",
   "execution_count": 2,
   "id": "dee6283e-20a4-47f2-aa3d-c502e5cd805f",
   "metadata": {},
   "outputs": [
    {
     "name": "stdout",
     "output_type": "stream",
     "text": [
      "heads, tails:  [49, 51]\n"
     ]
    }
   ],
   "source": [
    "num_tosses = 100\n",
    "heads = sum([random.random() > 0.5 for _ in range(num_tosses)])\n",
    "tails = num_tosses - heads \n",
    "print(\"heads, tails: \", [heads, tails])"
   ]
  },
  {
   "cell_type": "markdown",
   "id": "bd7ce9d4-eced-4e77-907c-d8f514d4f9c8",
   "metadata": {},
   "source": [
    "More generally, we can simulate multiple draws from any variable with a finite number of possible outcomes (like the toss of a coin or roll of a die) by calling the multinomial function, setting the first argument to the number of draws and the second as a list of probabilities associated with each of the possible outcomes. To simulate ten tosses of a fair coin, we assign probability vector [0.5, 0.5], interpreting index 0 as heads and index 1 as tails. The function returns a vector with length equal to the number of possible outcomes (here, 2), where the first component tells us the number of occurrences of heads and the second component tells us the number of occurrences of tails. "
   ]
  },
  {
   "cell_type": "code",
   "execution_count": 3,
   "id": "b82f1968-0a7a-4c67-919f-61497e7cb689",
   "metadata": {},
   "outputs": [
    {
     "data": {
      "text/plain": [
       "tensor([55., 45.])"
      ]
     },
     "execution_count": 3,
     "metadata": {},
     "output_type": "execute_result"
    }
   ],
   "source": [
    "fair_probs = torch.tensor([0.5, 0.5])\n",
    "Multinomial(100, fair_probs).sample()"
   ]
  },
  {
   "cell_type": "markdown",
   "id": "5465443e-dd51-4098-90d0-db195bf35d9b",
   "metadata": {},
   "source": [
    "Each time you run this sampling process, you will receive a new random value that may differ from the previous outcome. Dividing by the number of tosses gives us the **frequency** of each outcome in our data. Note that these frequencies, just like the probabilities that they are intended to estimate, sum to 1. "
   ]
  },
  {
   "cell_type": "code",
   "execution_count": 4,
   "id": "c2606e25-78da-4e3b-9ce8-26e665c5d3c1",
   "metadata": {},
   "outputs": [
    {
     "data": {
      "text/plain": [
       "tensor([0.5400, 0.4600])"
      ]
     },
     "execution_count": 4,
     "metadata": {},
     "output_type": "execute_result"
    }
   ],
   "source": [
    "Multinomial(100, fair_probs).sample() / 100"
   ]
  },
  {
   "cell_type": "markdown",
   "id": "01c1735f-5c8e-4c3f-921a-f7c944cf2b59",
   "metadata": {},
   "source": [
    "Here, even though our simulated coin is fair (we ourselves set the probabilities [0.5, 0.5]), the counts of heads and tails may not be identical. That is because we only drew a relatively small number of samples. If we did not implement the simulation ourselves, and only saw the outcome, how would we know if the coin were slightly unfair or if the possible deviation from 1/2 was just an artifact of the small sample size? Let's see what happens when we simulate 10,000 tosses. "
   ]
  },
  {
   "cell_type": "code",
   "execution_count": 5,
   "id": "5de78c98-e94c-4492-ad48-b54a7664ecee",
   "metadata": {},
   "outputs": [
    {
     "data": {
      "text/plain": [
       "tensor([0.4943, 0.5057])"
      ]
     },
     "execution_count": 5,
     "metadata": {},
     "output_type": "execute_result"
    }
   ],
   "source": [
    "counts = Multinomial(10000, fair_probs).sample()\n",
    "counts / 10000"
   ]
  },
  {
   "cell_type": "code",
   "execution_count": 6,
   "id": "a2b65a62-d0bf-4761-906e-5e985bcd0cf0",
   "metadata": {},
   "outputs": [
    {
     "data": {
      "image/png": "[encoded data removed]",
      "text/plain": [
       "<Figure size 450x350 with 1 Axes>"
      ]
     },
     "metadata": {},
     "output_type": "display_data"
    }
   ],
   "source": [
    "import matplotlib.pyplot as plt\n",
    "\n",
    "counts = Multinomial(1, fair_probs).sample((10000,))\n",
    "cum_counts = counts.cumsum(dim=0)\n",
    "estimates = cum_counts / cum_counts.sum(dim=1, keepdims=True)\n",
    "estimates = estimates.numpy()\n",
    "\n",
    "plt.figure(figsize=(4.5, 3.5))\n",
    "plt.plot(estimates[:, 0], label=\"P(coin=heads)\")\n",
    "plt.plot(estimates[:, 1], label=\"P(coin=heads)\")\n",
    "plt.axhline(y=0.5, color='black', linestyle='dashed')\n",
    "plt.xlabel('Samples')\n",
    "plt.ylabel('Estimated probability')\n",
    "plt.legend()\n",
    "plt.show()"
   ]
  },
  {
   "cell_type": "markdown",
   "id": "99328c5e-e178-46ba-8466-66cc03afda29",
   "metadata": {},
   "source": [
    "Each solid curve corresponding to one of the two values of the coin and gives our estimated probability that the coin turns up that value after each group of experiments. The dashed black line gives the true underlying probability. As we get more data by conducting more experiments, the curves converge towards the true probability. You might already begin to see the shape of some of the more advanced questions that preoccupy statisticians: How quickly does this convergence happen? If we had already tested many coins manufactured at the same plant, how might we incorporate this information?"
   ]
  },
  {
   "cell_type": "markdown",
   "id": "aeda35de-ff4e-4081-8490-d9be1d2e1e17",
   "metadata": {},
   "source": [
    "## A More Formal Treatment \n",
    "\n",
    "We have already gotten pretty far: posing a probabilistic model, generating synthetic data, running a statistical estimator, empirically assessing convergence, and reporting error metrics (checking the deviation). However, to go much further, we will needs to be more precise. \n",
    "\n",
    "When dealing with randomness, we denote the set of possible outcomes S and call it the **sample space** or **outcome space**. Here, each element is a distinct possible **outcome**. In the case of flipping a single coin, S = {heads,tails}. For a single die, S = {1,2,3,4,5,6}. When flipping two coins, possible outcomes are {(heads,heads),(heads,tails),(tails,heads),(tails,tails)}. **Events** are subsets of the sample space. For instance, the event \"the first coin toss comes up heads\" corresponds to the set {(heads,heads),(heads,tails)}. Whenever the outcome *z* of a random experiment statisfies *z* ∈ A, then event A has occurred. For a single roll of a die, we could define the events \"seeing a 5\" (A = {5}) and \"seeing an odd number\" (B = {1,3,5}). In this case, if the die came up 5, we would say that both A and B occurred. On the other hand, if *z* = 3, then A did not occur but B did. \n",
    "\n",
    "A **probability function** maps events onto real values *P*: A ⊆ S --> [0,1]. The probability, denoted *P*(A), of an event A in a given sample space S, has the following properties:\n",
    "\n",
    "1) The probability of an event A is a nonnegative real number, i.e., *P*(A) ≥ 0;\n",
    "   \n",
    "2) The probability of the entire sample spaces is 1, i.e., *P*(S) = 1\n",
    "\n",
    "3) For any countable sequence of events A<sub>1</sub>,A<sub>2</sub>, . . .that are **mutually exclusive** (i.e., A<sub>i</sub> ∩ A<sub>j</sub> = 0 for all i ≠ j), the probability that any of them happens is equal to the sum of their individual probabilities, i.e., *P*(U<sup>∞</sup><sub>i=1</sub> A<sub>i</sub>) = Σ<sup>∞</sup><sub>i=1</sub> *P*(A<sub>i</sub>).\n",
    "\n",
    "\n",
    "These axioms of probability theory, proposed by Kolmogorov (1933), can be applied to rapidly derive a number of important consequences. For instance, it follows immediately that the probability of any event A *or* its complement A' occuring is 1 (because A U A' = S). We can also prove that *P*(0) = 0 because 1 = *P*(S U S') = *P*(S U 0) = *P*(S) + P(0) = 1 + *P*(0). Consequently, the probability of any event A *and* its complement A' occuring simultaneously is *P*(A ∩ A') = 0. Informally, this tells us that impossible events have zero probability of occurring. "
   ]
  },
  {
   "cell_type": "markdown",
   "id": "86be08b4-3ff0-4559-bc43-2e2b0beae257",
   "metadata": {},
   "source": [
    "## Random Variables\n",
    "\n",
    "When we spoke about events like the roll of a die coming up odds or the first coin toss coming up heads, we were invoking the idea of a **random variable**. Formally, random variables are mappings from an underlying sample space to a set of (possibly many) values. You might wonder how a random variable is different from the sample space, since both are collections of outcomes. Importantly, random variables can be much coarser than the raw sample space. We can define random variable like \"greater than 0.5\" even when the underlying sample space is infinite, e.g., points on the line segment between 0 and 1. \n",
    "\n",
    "Additionally, multiple random variables can share the same underlying sample space. For example “whether my home alarm goes off” and “whether my house was burgled” are both binary random variables that share an underlying sample space. Consequently, knowing the value taken by one random variable can tell us something about the likely value of another random variable. Knowing that the alarm went off, we might suspect that the house was likely burglarized. \n",
    "\n",
    "Every value taken by a random variable corresponds to a subset of the underlying sample space. Thus the occurrence where the random variable *X* takes value v, denoted by *X* = v, is an **event** and *P*(*X* = v) denotes its probability. Sometimes this notation can get clunky, and we can exploit notation when the context is clear. For example, we might use *P*(X), as a shorthand to express a statement that is true for all of the values that the random variables *X* and *Y* can take, i.e., for all *i*, *j* it holds that *P*(*X* = i and *Y* = j) = *P*(*X* = i)*P*(*Y* = j). \n",
    "\n",
    "Other times, we exploit the notation by writing *P*(v) when the random variable is clear from the context. Since an event in probability theory is a set of outcomes from the sample space, we can specify a range of values for a random variable to take. For example, *P*(1 ≤ *X* ≤ 3) denotes the probability of the event {1 ≤ *X* ≤ 3}. \n",
    "\n",
    "Notice that there is a subtle difference between **discrete** random variables, like flips of a coin or tosses of a die, and **continuous** ones, like the weight and the height of a person sampled at random from the population. In this scenario, we seldom really care about someone's exact height. What's more, if we took precise enough measurements, we would find that exceedingly few two people on the planet have the exact same height. In fact, with fine enough measurements, you would never have the same height when you wake up and when you go to sleep. There's practically no point in asking about the exact probability that someone is 1.801392782910287192 meters tall. Instead, we typically care more about being able to say whether someone's height falls into a given interval, say between 1.79 and 1.81 meters. In these cases we work with **probability densities**. The height of exactly 1.80 meters has no probability, but nonzero density. To work out the probability assigned to an interval, we must take an **integral** of the density over the that interval. "
   ]
  },
  {
   "cell_type": "markdown",
   "id": "92581f58-af2f-48be-9a58-0a97a063faa1",
   "metadata": {},
   "source": [
    "## Multiple Random Variables\n",
    "\n",
    "Most of machine learning is concerned with relationships like *P*(*X*,*Y*) = *P*(*X*)*P*(*Y*)). Here, the sample space would be the population of  interest, say customers who transact with a business, photographs on the internet, or proteins known to biologists. Each random variable would represent the (unknown) value of a different attribute. Whenever we sample an individual from the population, we observe a realization of each of the random variables. Because the values taken by random variables correspond to subsets of the sample space that could be overlapping, partially overlapping, or entirely disjointed, knowing the value taken by one random variable can cause us to update our beliefs about which values of another random variable are likely.\n",
    "\n",
    "If a patient walks into a hospital and we observe that they are having trouble breathing and have lost their sense of smell, then we believe that they are more likely to have COVID-19 than we might if they had no trouble breathing and a perfectly ordingary sense of smell. When working with multiple random variables, we can construct events corresponding to every combination of values that the variables can jointly take. The probability function that assigns probabilities to each of these combintations (e.g., *A* = *a* and *B* = *b*) is called the **joint probability** function and simply returns the probability assigned to the intersection of the corresponding subsets of the sample space. The **joint probability** assigned to the event where random variables *A* and *B* take values *a* and *b*, respectively, is denoted *P*(*A* = *a*,*B* = *b*), where the comma indicates \"and\". \n",
    "\n",
    "Notice that for any values *a* and *b*, it follows that *P*(*A* = *a*,*B* = *b*) ≤ *P*(*A* = *a*) and *P*(*A* = *a*,*B* = *b*) ≤ *P*(*B* = *b*), since *A* = *a* and *B* = *b* to happen, *A* = *a* has to happen **and** *B* = *b* also has to happen. Interestingly enough, the joint probability tells us all that we can know about these random variables in a probabilistic sense, and can be used to derive many other useful quantities, including recovering the individual distributions *P*(*A*) and *P*(*B*). To recover *P*(*A* = a) we simply sum up *P*(*A* = *a*,*B* = *b*) over all values of *v* that the random variable *B* can take: *P*(*A* = *a*) = Σ<sub>v</sub>*P*(*A* = *a*,*B* = *b*). \n",
    "\n",
    "The ratio ((*A* = *a*,*B* = *b*) / *P*(*A*=*a*)) ≤ 1 turns out to be extremely important. It is called **the conditional probability**, and is denoted via the \"|\" symbol: *P*(*B* = *b* | *A* = *a*) = *P*(*A* = *a*,*B* = *b*)/*P*(*A* = *a*). It tells us the new probability associated with the event *B* = *b*, once we condition on the fact *A* = *a* took place. We can think of this conditional probability as restricting attention only to the subset of the sample space associated with *A* = *a* and then renormalizing so that all probabilities sum to 1. Conditional probabilities are in fact just ordinary probabilities and thus respect all of the axioms, as long as we condition all terms on the same event and thus restrict attention to the same sample space. \n",
    "\n",
    "For instance, for disjoint events B and B', we have that *P*(B u B' | *A* = *a*) = *P*(B | *A* = *a*) + *P*(B' | *A* = *a*). Using the definition of conditional probabilities, we can derive the famous result called **Bayes' theorem**. By construction, we have that *P*(A,B) = *P*(*B* | *A*)*P*(*A*) and *P*(*A*,*B*) = *P*(*A* | *B*)*P*(*B*). Combining both equations yields *P*(*B* | *A*)*P*(*A*)= *P*(*A* | *B*)*P*(*B*) and hence: *P*(*A* | *B*) = (*P*(*B* | *A*)*P*(*A*) / *P*(*B*))\n",
    "\n",
    "This simple equation has profound implications because it allowsus to reverse the order of conditioning. If we know how to estimate *P*(*B* | *A*), *P*(*A*), and *P*(*B*), then we can estimate *P*(*A* | *B*). We often find it easier to eastimate one term directly but not the other and Bayes' theorem can come to the rescue here. For example, if we know the prevalence of symptoms for a given disease, and the overall prevalences of the disease and symptoms, respectively, we can determine how likely someone is to have the disease based on their symptoms. \n",
    "\n",
    "In some cases we might not have direct access to *P*(*B*), such as the prevalence of symptoms. In this case a simplified version of Bayes' theorem comes in handy: *P*(*A* | *B*) ∝ *P*(*B* | *A*)*P*(*A*). Since we know that *P*(*A* | *B*) must be normalized to 1, i.e.   Σ<sub>a</sub>*P*(*A* = *a* | *B*) = 1, we can use it to compute *P*(*A* | *B*) = (*P*(*B* | *A*)*P*(*A*) / Σ<sub>a</sub>*P*(*B* | *A* = *a*)*P*(*A* = *a*))\n",
    "\n",
    "In Bayesian statistics, we think of an observer as possessing some *subjective* prior beliefs about the plausibility of the available hypotheses encoded in the *prior* *P*(*H*), and a **likelihood function** that says how likely one is to observe any value of the collected evidence for each of the hypotheses in the class *P*(*E* | *H*). Bayes' theorem is then interpreted as telling us how to update the initial *prior* *P*(*H*) in light of the available evidence *E* to produce **posterior** beliefs *P*(*H* | *E*) = (*P*(*E* | *H*)*P*(*H*) / *P*(*E*). Informally, this can be state as \"posterior equals prior times likelihood, divided by the evidence\". Now, because the evidence *P*(*E*) is the same for all hypotheses, we can get away with simply normalizing over the hypotheses. \n",
    "\n",
    "Notice that Σ<sub>a</sub>*P*(*A* = *a* | *B*) = 1 also allows us to **marginalize** over random variables. That is to say, we can drop variables from a joint distribution such as *P*(*A*,*B*). After all, we have that Σ<sub>a</sub>*P*(*B* | *A* = *a*)*P*(*A* = *a*) = Σ<sub>a</sub>*P*(*B*,*A* = *a*) = *P*(*B*,*A* = *a*) = *P*(*B*). \n",
    "\n",
    "**Independence** is another fundamentally important concept that forms the backbone of many important ideas in statistics. In short, two variables are independent if conditioning on the value of *A* does not cause any change to the probability distribution associated with *B* and vice versa. More formally, independence, denoted *A* ⊥ *B*, requires that *P*(*A* | *B*) = *P*(*A*) and, consequently, that *P*(*A*,*B*) = *P*(*A* | *B*)*P*(*B*) = *P*(*A*)*P*(*B*). Independence is often an appropriate assumption. For instance, if the random variable *A* represents the outcome from flipping one fair coin and the random variable *B* represents the outcome from tossing another, then knowing whether *A* came up heads should not influence the probability of *B* coming up heads. \n",
    "\n",
    "Independence is especially useful when it holds among the successive draws of our data from some underlying distribution (which allows us to make strong statistical conclusions) or when it holds among various variables in our data, allowing us to work with simpler models that encode this independence structure. On the other hand, estimating dependencies among random variables is often the very aim of learning. We care to estimate the probability of disease given symptoms specifically because we believe that diseases and symptoms are *not* independent. \n",
    "\n",
    "Notice that because conditional probabilities are proper probabilities, the concepts of independence and dependence also apply to them. Two random variables *A* and *B* are **conditionally independent** given a third variable *C* if and only if *P*(*A*,*B* | *C*) = *P*(*A* | *C*)*P*(*B* | *C*). It's quite interesting that two variables can be independent in general but become dependent when conditioning on a third. This often occurs when the two random variables *A* and *B* correspond to causes of some third variable *C*. For example, broken bones and lung cancer might be independent in the general population, however if we condition on being in the hospital, then we might find that broken bones are negatively correlated with lung cancer. That's because the broken bones **explains away* why some person is in the hospital and thus lowers the probability that they are hospitalized because of having lung cancer. Coversely, two dependent random variables can become independent upon conditioning on a third. This often happens when two otherwise unrelated events have a common cause. Shoe size and reading level are highly correlated among elementary school students, but this correlation disappears if we condition on age. "
   ]
  },
  {
   "cell_type": "markdown",
   "id": "3a560a4a-e0ce-40f5-b9d5-39110bdb3457",
   "metadata": {},
   "source": [
    "## A More Thorough Example\n",
    "\n",
    "Assume that a doctor administers an HIV test to a patient. Assume that this test is fairly accurate and fails only with 1% probability if the patient is healthy but reported as having the disease, or in other words, healthy patients test positive in 1% of cases. Let's also assume the test never fails to detect HIV if the patient actually has it. \n",
    "\n",
    "We can use *D*<sub>1</sub> ∈ {0,1} to indicate the diagnosis (0 if negative and 1 if positive) and *H* ∈ {0,1} to denote the HIV status. \n",
    "\n",
    "\n",
    "|Conditional Probability:| H = 1  |  H = 0|\n",
    "\n",
    "|*P*(*D*<sub>1</sub> = 1 | *H*) | 1 |   0.01|\n",
    "\n",
    "|*P*(*D*<sub>1</sub> = 0 | *H*) | 0 |   0.99|\n",
    "\n",
    "\n",
    "Notice that the column sums all 1 but the row sums do not since they are conditional probabilities. Let's now compute the probability of the patient having HIV if the test comes back positive, i.e., *P*(*H* = 1 | *D*<sub>1</sub> = 1). Intuitively this is going to depend on how common the disease is, since it affects the number of false positives. Let's assume that the population is fairly free of the disease, e.g., *P*(*H* = 1) = 0.0015. To apply Bayes' Theorem, this is where we'll need to apply marginalization to determine:\n",
    "\n",
    "*P*(*D*<sub>1</sub> = 1)=*P*(*D*<sub>1</sub> = 1, *H* = 0) + *P*(*D*<sub>1</sub> = 1,*H* = 1)\n",
    "\n",
    "=*P*(*D*<sub>1</sub> = 1 | *H* = 0)*P*(*H* = 0) + *P*(*D*<sub>1</sub> = 1, *H* = 1)*P*(*H* = 1) = 0.011485\n",
    "\n",
    "This then leads us to: \n",
    "\n",
    "*P*(*H* = 1 | *D*<sub>1</sub> = 1) = ( P*(*D*<sub>1</sub> = 1 | *H* = 1)*P*(*H* = 1) / *P*(*D*<sub>1</sub> = 1) ) = 0.1306\n",
    "\n",
    "Put another way, there is only a 13.06% chance that the patient actually has HIV, despite the test being pretty accurate. As demonstrated, probability can be counterintuitive. What should a patient do upon receiving news that they've tested positive? Most likely the patient would ask the physician to administer another test to validate the results. The second test has different characteristics and it is not as good as the first one. \n",
    "\n",
    "\n",
    "|Conditional Probability:| H = 1  |  H = 0|\n",
    "\n",
    "|*P*(*D*<sub>2</sub> = 1 | *H*) = 0.98 |   0.03|\n",
    "\n",
    "|*P*(*D*<sub>2</sub> = 0 | *H*) = 0.02 |   0.97|\n",
    "\n",
    "\n",
    "Let's say that, unfortunately, the second test for this patient comes back positive as well. Let's now calculate the requisite probabilities to invoke Bayes' Theorem by assuming conditional independence:\n",
    "\n",
    "*P*(*D*<sub>1</sub> = 1,*D*<sub>2</sub> = 1 | *H* = 0) = *P*(*D*<sub>1</sub> = 1 | *H* = 0)*P*(*D*<sub>2</sub> = 1 | *H* = 0) = 0.0003,\n",
    "\n",
    "*P*(*D*<sub>1</sub> = 1,*D*<sub>2</sub> = 1 | *H* = 1) = *P*(*D*<sub>1</sub> = 1 | *H* = 1)*P*(*D*<sub>2</sub> = 1 | *H* = 1) = 0.98\n",
    "\n",
    "Now we can apply marginalization to obtain the probability that both tests come back positive:\n",
    "\n",
    "*P*(*D*<sub>1</sub> = 1,*D*<sub>2</sub> = 1) \n",
    "\n",
    "= *P*(*D*<sub>1</sub> = 1,*D*<sub>2</sub> = 1,*H* = 0) + *P*(*D*<sub>1</sub> = 1,*D*<sub>2</sub> = 1,*H* = 1)\n",
    "\n",
    "= *P*(*D*<sub>1</sub> = 1,*D*<sub>2</sub> = 1 | *H* = 0)*P*(*H* = 0) + *P*(*D*<sub>1</sub> = 1,*D*<sub>2</sub> = 1 | *H* = 1)*P*(*H* = 1)\n",
    "\n",
    "= 0.00176955\n",
    "\n",
    "Finally, the probability of our patient having HIV given that both tests were positive is: \n",
    "\n",
    "*P*(*H* = 1 | *D*<sub>1</sub> = 1,*D*<sub>2</sub> = 1) = ( P*(*D*<sub>1</sub> = 1,*D*<sub>2</sub> = 1 | *H* = 1)*P*(*H* = 1) / *P*(*D*<sub>1</sub> = 1,*D*<sub>2</sub> = 1) ) = 0.8307.\n",
    "\n",
    "That is to say, the second test allowed us to gain much higher confidence that not all is well. Despite the second test being considerablly less accurate than the first one, it still significantly improved our estimate. The assumption of both tests being conditionally independent of each other was *crucial* for our ability to generate a more accurate estimate. Take the extreme case where we run the same test twice.  In this scenario, we would expect the same outcome both times, hence no additional insight is gained from running the same test again. However the astute reader may notice that the diagnosis behaved like a **classifier** hiding in plain sight, where our ability to decide whether a patient is healthy increases as we obtain more features (test outcomes in this context). "
   ]
  },
  {
   "cell_type": "markdown",
   "id": "8788676b-077b-41e2-8ec1-54525b0a0985",
   "metadata": {},
   "source": [
    "## Expectations\n",
    "\n",
    "Making decisions often requires not just looking at the probabilities assigned to individual events but composing them together into useful aggregates that can provide us with guidance. For example, when random variables take continuous scalar values, we often care about knowing what value to expect *on average*. This quantity is formally called an **expectation**. If we are making investments, the the first quantity we'd concern ourselves with might be the return we can expect, averaging over all the possible outcomes and weighting them by the appropriate probabilities. \n",
    "\n",
    "For example, say that with 50% probability, an investment might fail altogether, with 40% probability it might provide a 2x return, and with 10% probability it might provide a 10x return. To calculate the expected return, we would sum over all returns, multiplying each by the probability that they will occur. For this example, this yields the expectation 0.5 * 0 + 0.4 * 2 + 0.1 * 10 = 1.8. Thus the return is expected to be 1.8x. \n",
    "\n",
    "Generally the expectation (or average) of the random variable *X* is defined as: *E*[*X*] = *E*<sub>x ~ P</sub>[x] = Σ<sub>x</sub>x*P*(*X* = x).\n",
    "\n",
    "Similarly for densities, we obtain *E*[*X*] = ∫ x dp(x). Sometimes we are interested in the expected value of some function of x. We can calculate these expectations as:\n",
    "\n",
    "*E*<sub>x ~ P</sub>[f(x)] = Σ f(x)*P*(x) and *E*<sub>x ~ P</sub>[f(x)] = ∫ f(x)*p*(x) dx\n",
    "\n",
    "for descrete probabilities and densities, respectively. Returning to the previous investment example, f might be the **utility** (or \"happiness\") associated with the return. Behavior economists have long noted that people associate greater disutility with losing money than the utility gained from earning one dollar relative to their baseline wealth. What's more, the value of money tends to be sub-linear in that possessing 100k USD versus 0 USD can make the difference between paying the rent, eating well, and enjoying quality healthcare versus suffering through homelessness. On the other hand, the gains due to possessing 200k USD versus 100k USD are less dramatic. Reasoning like this motivates the cliche that \"the utility of money is logarithmic\". \n",
    "\n",
    "If the utility associated with a total loss were -1, and the utilities associated with returns of 1, 2, and 10 were 1, 2, and 4 respectively, then the expected happiness of investing would be expressed as 0.5 * (-1) + 0.4 * 2 + 0.1 * 4 = 0.7 which would translate to a 30% expected loss in utility. If indeed this were your utility function, you might be best off keeping the money in the bank. \n",
    "\n",
    "For financial decisions, we might also want to measure how **risky** an investment is. We care not just about the expected value but how much the actual values tend to **vary** relative to this value. Notice that we cannot just take the expectation of the difference between the actual and expected values. This is because the expectation of a difference is the difference of the expectations, i.e., *E*[*X* - *E*[*X*]] = *E*[*X*] - *E*[*E*[*X*]] = 0 \n",
    "\n",
    "However we can look at the expectation of any non-negative function of this difference. The **variance** of a random variable is calculated by looking at the expected value of the **squared differences**:\n",
    "\n",
    "Var[*X*] = *E*[(*X* - *E*[*X*])<sup>2</sup>] = *E*[*X*<sup>2</sup>] - *E*[*X*]<sup>2</sup>\n",
    "\n",
    "Here the equality follows by expanding (*X* - *E*[*X*])<sup>2</sup>] = *X*<sup>2</sup> - 2*X**E*[*X*] + *E*[*X*]<sup>2</sup> and taking expectations for each term. The square root of the variance is another useful quantity called the **standard deviation**. While this and the variance convey the same information (either can be calculated from the other), the standard deviation has the nice property that it is expressed in the same units as the original quantity represented by the random variable. \n",
    "\n",
    "Lastly, the variance of a function of a random variable is defined analogously as:\n",
    "\n",
    "Var<sub>x ~ P</sub>[f(x)] = *E*<sub>x ~ P</sub>[f<sup>2</sup>(x)] - *E*<sub>x ~ P</sub>[f(x)]<sup>2</sup>\n",
    "\n",
    "Tying this back to our investment example, we can now compute the variance of the investment. Doing so looks like 0.5 * 0 + 0.4 * 2<sup>2</sup> + 0.1 * 10<sup>2</sup> - 1.8<sup>2</sup> = 8.36. For all intents and purposes this is a risky investment. Notice that by mathematical convention mean and variance are often denoted as 𝜇 and 𝜎<sup>2</sup>. This is particularly the case whenever we use it to parametrize a **Gaussian distribution**. \n",
    "\n",
    "In the same way as we introduced expectations and variance for *scalar* random variables, we can do so for vector-valued ones. Expectations are easy, since we can apply them elementwise. For instance, **𝝁** =<sup>def</sup> *E*<sub>x ~ P</sub>[x] has coordinates 𝜇<sub>i</sub> = *E*<sub>x ~ P</sub>[x<sub>i</sub>]. \n",
    "\n",
    "**Covariances** are more complicated than this. We define them by taking expectations of the **outer product** of the difference between random variables and their mean:\n",
    "\n",
    "𝚺 =<sup>def</sup> Cov<sub>x ~ P</sub>[x] = *E*<sub>x ~ P</sub>[(x - **𝝁**)(x - **𝝁**)<sup>T</sup>].\n",
    "\n",
    "This matrix 𝚺 is referred to as the **covariance matrix**. An easy way to see its effect is to consider some vector *v* of the same size as x. It then follows that:\n",
    "\n",
    "**v**<sup>T</sup>𝚺**v** = *E*<sub>x ~ P</sub> [**v**<sup>T</sup> (x - 𝝁)(x - 𝝁)<sup>T</sup>**v**] = Var<sub>x ~ P</sub>[**v**<sup>T</sup>x].\n",
    "\n",
    "In this way, 𝚺 allows us to compute the variance for any linear function of x by a simple matrix multiplication. The **off-diagonal elements** tell us how correlated the coordinates are: a value of 0 means no correlation, where a larger positive value means that they are more strongly correlated. "
   ]
  },
  {
   "cell_type": "markdown",
   "id": "42c0de08-f698-4210-ab91-3e813c0825d3",
   "metadata": {},
   "source": [
    "## Probability and Statistics Recap\n",
    "\n",
    "There are many things to be uncertain about in the context of machine learning. We can be uncertain about the value of a label given an input. We can be uncertain about the estimated value of a parameter. We can even be uncertain about whether data at deployment is even from the same distribution as the training data. \n",
    "\n",
    "By **aleatoric uncertainty** we mean uncertainty that is intrinsic to the problem, and due to genuine randomness unaccounted for by the observed variables. By **epistemic unertainty**, we mean uncertainty over a model's parameters, the sort of uncertainty concerning the probability that a coin turns up heads, but even once we know thi probability, we are left with aleatoric uncertainty about the outcome of any future toss. \n",
    "\n",
    "No matter how long we watch someone flipping a fair coin, we will never be more or less than 50% certain the next toss will come up heads. These terms come from mechanical modeling. It is worth mentioning that these terms constitute a slight abuse of terminology. The term *epistemic* refers to anything concerning *knowledge* and thus, in the philosophical sense, all uncertainty is epistemic. \n",
    "\n",
    "We saw that sampling data from some unknown probability distribution can provide us with information that can be used to estimate the parameters of the data generating distribution. That said, the rate at which this is possible can be quite slow. In our coin tossing example (and many others) we can do no better than to design estimators that converge at a rate of ( 1 / (square root of)n ), where n is the sample size (e.g., the number of tosses). This means that by going from 10 to 1000 observations (usually a very achievable task) we see a tenfold reduction of uncertainty, whereas the next 1000 observations help comparatively little, offering only a 1.41 times reduction. \n",
    "\n",
    "This is persistent feature of machine learning: while there are often easy gains, it takes a very large amount of data, and often with it an enormous amount of computation, to amek further gains. We also sharpened our language and tools for statistical modeling. In the process of that we learned about conditional probabilities and about one of the most important equations in statistics - Bayes' theorem. It is an effective tool for decoupling information conveyed by data through a likihood term *P*(*B* | *A*) that addresses how well observations *B* match a choice of parameters *A*, and a prior probability *P*(*A*) which governs how plausible a particular choice of *A* was in the first place. \n",
    "\n",
    "In particular, we saw how this rule can be applied to assign probabilities to dianoses, based on the efficacy of the test *and* the prevalence of the disease itself (i.e., our prior). Lastly, we introduced a first set of nontrivial questions about the effect of a specific probability distribution, namely expectations and variances. While there are many more than just linear and quadratic expectations for a probability distribution, these two already provide a good deal of knowledge about the possible behavior of the distribution. "
   ]
  }
 ],
 "metadata": {
  "kernelspec": {
   "display_name": "Python (venv)",
   "language": "python",
   "name": "venv"
  },
  "language_info": {
   "codemirror_mode": {
    "name": "ipython",
    "version": 3
   },
   "file_extension": ".py",
   "mimetype": "text/x-python",
   "name": "python",
   "nbconvert_exporter": "python",
   "pygments_lexer": "ipython3",
   "version": "3.12.3"
  }
 },
 "nbformat": 4,
 "nbformat_minor": 5
}
