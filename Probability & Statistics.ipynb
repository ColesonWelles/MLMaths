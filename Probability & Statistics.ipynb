{
 "cells": [
  {
   "cell_type": "markdown",
   "id": "c711805e-7056-444c-aff7-38d41533f364",
   "metadata": {},
   "source": [
    "# Probability and Statistics\n",
    "\n",
    "Much of machine learning is also about uncertainty. In supervised learning, we hope to predict something unknown given something known (targets vs features). Models that are trained in this way attempt to predict the mostly likely value of a given target. Alternatively, these models may attempt to predict the value with the smallest expected distance from the target while also trying to *quantify our uncertainty*. \n",
    "\n",
    "With models under unsupervised learning, we especially care about uncertainty. We do so in order to determine whether a set of measurements are anomalous or to know how likely a set of values are in a given population. \n",
    "\n",
    "With reinforcement learning, the dream is to develop agents that can act intelligently under a variety of conditions and within a variety of environments. This presupposes a need to be able to reason about how an environment may be expected to change and what rewards a model might expect to encounter as result of a various possible actions it could take. \n",
    "\n",
    "\n",
    "**Probability** is the field of mathematics that covers all of these concerns vis a vis reasoning under uncertainity. The use of probabilities to describe the frequencies of repeatable events is pretty standard practice. Broadly speaking, **frequentists** adhere to an interpretation of probability that only applies to repeatable events. By contrast, **Bayesians** use the language of probability more broadly to formalize reasoning under uncertainty.\n",
    "\n",
    "Bayesian probability is characterized by two unique features:\n",
    "\n",
    "1) assigning degrees of belief to non-repreatable events e.g., \"what is the *probability* that a dam will collapse?\"\n",
    "\n",
    "2) subjectivity. While Bayesian probability provides unambiguous rules for how one should update their beliefs in light of new evidence, it allows for different individuals to start off with different *prior* beliefs.\n",
    "\n",
    "**Statistics** helps us to reason backwards, starting off with collection and organization of data and backing out to what inferences we might draw about the process that generated the data. Whenever we analye a dataset, hunting for patterns that we hope might characterize a broader population, we are employing statistical thinking. "
   ]
  },
  {
   "cell_type": "code",
   "execution_count": 2,
   "id": "dd5651b4-33c3-44ab-9b14-488bf190e6e4",
   "metadata": {},
   "outputs": [],
   "source": [
    "%matplotlib inline\n",
    "import random\n",
    "import torch\n",
    "from torch.distributions.multinomial import Multinomial"
   ]
  },
  {
   "cell_type": "markdown",
   "id": "bf9c50bc-25d7-4892-b4fc-4cfba8930d30",
   "metadata": {},
   "source": [
    "## Starting off simply: Flipping Coins\n",
    "\n",
    "Imagine that we plan to toss a coin and want to quantify how likely we are to see heads or tails. If the coin is *fair*, the both outcomes are equally likely. Moreover if we plan nto toss the coin *n* times then the fraction of heads that we *expect* to see should exactly match the *expected* fraction of tails. \n",
    "\n",
    "One intuitive way to see this is by symmetry. For every possible outcome with n<sub>h</sub> heads and n<sub>t</sub> = (n - n<sub>h</sub> tails, there is an equally likely outcome with n<sub>t</sub> heads and n<sub>h</sub> tails. Notice that this is only possible if on average we expect 1/2 of the tosses to come up heads and 1/2 to come up tails. In practice, if you conduct this experiment many times with n = 1000000 tosses each, you might never see a trial where n<sub>h</sub> = n<sub>t</sub> exactly. \n",
    "\n",
    "More formally, the quantity 1/2 is referred to as a **probability** and here it captures the certainty with which any given toss will come up heads. Probabilities assign scores between 0 and 1 to outcomes of interest, known as **events**. Here the event of interest is heads and we denote the corresponding probability *P*(heads). A probability of 1 indicates absolute certainty and a probability of 0 indicates impossibility. The frequencies n<sub>h</sub> / n and n<sub>t</sub> / n **are not probabilities but rather statistics**. \n",
    "\n",
    "**Probabilities are theoretical quantities** that underly the data generating process. In our example, the probability 1/2 is a property of the coin itself. By contrast, **statistics are imperical quantities** that are computed as functions of the observed data. Our interests in probabilistic and statistical quantities are inextricably intertwined. Specially designed statistics are called **estimators** that produce **estimates** of model parameters such as probabilities on a given dataset. \n",
    "\n",
    "Moreover, when those estimators satisfy a property called **consistency**, our estimates will converge to the corresponding probability. These inferred probabilities, in turn, tell us about the likely statistical properties of data from the same population that we might encounter in the future. \n",
    "\n",
    "Imagine that we found a real coin for which we did not know the true *P*(heads). To determine this quantity with statistical methods, we need to:\n",
    "\n",
    "1) collect some data\n",
    "\n",
    "2) design an estimator\n",
    "\n",
    "Data aquisition here is easy since we can flip the coin many times and record all the outcomes. Formally, drawing realizations from some underlying random process is called **sampling**. As you might have guessed, one natural estimator is the ratio of the number of observed heads to the total number of tosses. \n",
    "\n",
    "Suppose that the coin was in fact fair, i.e., *P*(heads) = 0.5. To simulate tosses of a fair coin, we can invoke any random number generator. There are some easy ways to draw samples of an event with probability 0.5. For example Python's `random.random` yields number in the interval [0, 1] where the probability of lying in any sub-interval [a, b] ⊂ [0, 1] is equal to b - a. Thus we can get out 0 and 1 with probability 0.5 each by testing whether the returned float number is greater than 0.5:"
   ]
  },
  {
   "cell_type": "code",
   "execution_count": 4,
   "id": "dee6283e-20a4-47f2-aa3d-c502e5cd805f",
   "metadata": {},
   "outputs": [
    {
     "name": "stdout",
     "output_type": "stream",
     "text": [
      "heads, tails:  [48, 52]\n"
     ]
    }
   ],
   "source": [
    "num_tosses = 100\n",
    "heads = sum([random.random() > 0.5 for _ in range(num_tosses)])\n",
    "tails = num_tosses - heads \n",
    "print(\"heads, tails: \", [heads, tails])"
   ]
  },
  {
   "cell_type": "markdown",
   "id": "bd7ce9d4-eced-4e77-907c-d8f514d4f9c8",
   "metadata": {},
   "source": [
    "More generally, we can simulate multiple draws from any variable with a finite number of possible outcomes (like the toss of a coin or roll of a die) by calling the multinomial function, setting the first argument to the number of draws and the second as a list of probabilities associated with each of the possible outcomes. To simulate ten tosses of a fair coin, we assign probability vector [0.5, 0.5], interpreting index 0 as heads and index 1 as tails. The function returns a vector with length equal to the number of possible outcomes (here, 2), where the first component tells us the number of occurrences of heads and the second component tells us the number of occurrences of tails. "
   ]
  },
  {
   "cell_type": "code",
   "execution_count": 5,
   "id": "b82f1968-0a7a-4c67-919f-61497e7cb689",
   "metadata": {},
   "outputs": [
    {
     "data": {
      "text/plain": [
       "tensor([60., 40.])"
      ]
     },
     "execution_count": 5,
     "metadata": {},
     "output_type": "execute_result"
    }
   ],
   "source": [
    "fair_probs = torch.tensor([0.5, 0.5])\n",
    "Multinomial(100, fair_probs).sample()"
   ]
  },
  {
   "cell_type": "markdown",
   "id": "5465443e-dd51-4098-90d0-db195bf35d9b",
   "metadata": {},
   "source": [
    "Each time you run this sampling process, you will receive a new random value that may differ from the previous outcome. Dividing by the number of tosses gives us the **frequency** of each outcome in our data. Note that these frequencies, just like the probabilities that they are intended to estimate, sum to 1. "
   ]
  },
  {
   "cell_type": "code",
   "execution_count": 6,
   "id": "c2606e25-78da-4e3b-9ce8-26e665c5d3c1",
   "metadata": {},
   "outputs": [
    {
     "data": {
      "text/plain": [
       "tensor([0.4400, 0.5600])"
      ]
     },
     "execution_count": 6,
     "metadata": {},
     "output_type": "execute_result"
    }
   ],
   "source": [
    "Multinomial(100, fair_probs).sample() / 100"
   ]
  },
  {
   "cell_type": "markdown",
   "id": "01c1735f-5c8e-4c3f-921a-f7c944cf2b59",
   "metadata": {},
   "source": [
    "Here, even though our simulated coin is fair (we ourselves set the probabilities [0.5, 0.5]), the counts of heads and tails may not be identical. That is because we only drew a relatively small number of samples. If we did not implement the simulation ourselves, and only saw the outcome, how would we know if the coin were slightly unfair or if the possible deviation from 1/2 was just an artifact of the small sample size? Let's see what happens when we simulate 10,000 tosses. "
   ]
  },
  {
   "cell_type": "code",
   "execution_count": 7,
   "id": "5de78c98-e94c-4492-ad48-b54a7664ecee",
   "metadata": {},
   "outputs": [
    {
     "data": {
      "text/plain": [
       "tensor([0.5018, 0.4982])"
      ]
     },
     "execution_count": 7,
     "metadata": {},
     "output_type": "execute_result"
    }
   ],
   "source": [
    "counts = Multinomial(10000, fair_probs).sample()\n",
    "counts / 10000"
   ]
  },
  {
   "cell_type": "code",
   "execution_count": 8,
   "id": "a2b65a62-d0bf-4761-906e-5e985bcd0cf0",
   "metadata": {},
   "outputs": [
    {
     "data": {
      "image/png": "[encoded data removed]",
      "text/plain": [
       "<Figure size 450x350 with 1 Axes>"
      ]
     },
     "metadata": {},
     "output_type": "display_data"
    }
   ],
   "source": [
    "import matplotlib.pyplot as plt\n",
    "\n",
    "counts = Multinomial(1, fair_probs).sample((10000,))\n",
    "cum_counts = counts.cumsum(dim=0)\n",
    "estimates = cum_counts / cum_counts.sum(dim=1, keepdims=True)\n",
    "estimates = estimates.numpy()\n",
    "\n",
    "plt.figure(figsize=(4.5, 3.5))\n",
    "plt.plot(estimates[:, 0], label=\"P(coin=heads)\")\n",
    "plt.plot(estimates[:, 1], label=\"P(coin=heads)\")\n",
    "plt.axhline(y=0.5, color='black', linestyle='dashed')\n",
    "plt.xlabel('Samples')\n",
    "plt.ylabel('Estimated probability')\n",
    "plt.legend()\n",
    "plt.show()"
   ]
  },
  {
   "cell_type": "markdown",
   "id": "99328c5e-e178-46ba-8466-66cc03afda29",
   "metadata": {},
   "source": [
    "Each solid curve corresponding to one of the two values of the coin and gives our estimated probability that the coin turns up that value after each group of experiments. The dashed black line gives the true underlying probability. As we get more data by conducting more experiments, the curves converge towards the true probability. You might already begin to see the shape of some of the more advanced questions that preoccupy statisticians: How quickly does this convergence happen? If we had already tested many coins manufactured at the same plant, how might we incorporate this information?"
   ]
  },
  {
   "cell_type": "markdown",
   "id": "aeda35de-ff4e-4081-8490-d9be1d2e1e17",
   "metadata": {},
   "source": [
    "## A More Formal Treatment \n",
    "\n",
    "We have already gotten pretty far: posing a probabilistic model, generating synthetic data, running a statistical estimator, empirically assessing convergence, and reporting error metrics (checking the deviation). However, to go much further, we will needs to be more precise. \n",
    "\n",
    "When dealing with randomness, we denote the set of possible outcomes S and call it the **sample space** or **outcome space**. Here, each element is a distinct possible **outcome**. In the case of flipping a single coin, S = {heads,tails}. For a single die, S = {1,2,3,4,5,6}. When flipping two coins, possible outcomes are {(heads,heads),(heads,tails),(tails,heads),(tails,tails)}. **Events** are subsets of the sample space. For instance, the event \"the first coin toss comes up heads\" corresponds to the set {(heads,heads),(heads,tails)}. Whenever the outcome *z* of a random experiment statisfies *z* ∈ A, then event A has occurred. For a single roll of a die, we could define the events \"seeing a 5\" (A = {5}) and \"seeing an odd number\" (B = {1,3,5}). In this case, if the die came up 5, we would say that both A and B occurred. On the other hand, if *z* = 3, then A did not occur but B did. \n",
    "\n",
    "A **probability function** maps events onto real values *P*: A ⊆ S --> [0,1]. The probability, denoted *P*(A), of an event A in a given sample space S, has the following properties:\n",
    "\n",
    "1) The probability of an event A is a nonnegative real number, i.e., *P*(A) ≥ 0;\n",
    "   \n",
    "2) The probability of the entire sample spaces is 1, i.e., *P*(S) = 1\n",
    "\n",
    "3) For any countable sequence of events A<sub>1</sub>,A<sub>2</sub>, . . .that are **mutually exclusive** (i.e., A<sub>i</sub> ∩ A<sub>j</sub> = 0 for all i ≠ j), the probability that any of them happens is equal to the sum of their individual probabilities, i.e., *P*(U<sup>∞</sup><sub>i=1</sub> A<sub>i</sub>) = Σ<sup>∞</sup><sub>i=1</sub> *P*(A<sub>i</sub>).\n",
    "\n",
    "\n",
    "These axioms of probability theory, proposed by Kolmogorov (1933), can be applied to rapidly derive a number of important consequences. For instance, it follows immediately that the probability of any event A *or* its complement A' occuring is 1 (because A U A' = S). We can also prove that *P*(0) = 0 because 1 = *P*(S U S') = *P*(S U 0) = *P*(S) + P(0) = 1 + *P*(0). Consequently, the probability of any event A *and* its complement A' occuring simultaneously is *P*(A ∩ A') = 0. Informally, this tells us that impossible events have zero probability of occurring. "
   ]
  },
  {
   "cell_type": "markdown",
   "id": "86be08b4-3ff0-4559-bc43-2e2b0beae257",
   "metadata": {},
   "source": [
    "## Random Variables\n",
    "\n",
    "When we spoke about events like the roll of a die coming up odds or the first coin toss coming up heads, we were invoking the idea of a **random variable**. Formally, random variables are mappings from an underlying sample space to a set of (possibly many) values. You might wonder how a random variable is different from the sample space, since both are collections of outcomes. Importantly, random variables can be much coarser than the raw sample space. We can define random variable like \"greater than 0.5\" even when the underlying sample space is infinite, e.g., points on the line segment between 0 and 1. "
   ]
  }
 ],
 "metadata": {
  "kernelspec": {
   "display_name": "Python (venv)",
   "language": "python",
   "name": "venv"
  },
  "language_info": {
   "codemirror_mode": {
    "name": "ipython",
    "version": 3
   },
   "file_extension": ".py",
   "mimetype": "text/x-python",
   "name": "python",
   "nbconvert_exporter": "python",
   "pygments_lexer": "ipython3",
   "version": "3.12.3"
  }
 },
 "nbformat": 4,
 "nbformat_minor": 5
}
