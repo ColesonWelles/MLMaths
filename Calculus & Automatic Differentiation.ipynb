{
 "cells": [
  {
   "cell_type": "code",
   "execution_count": null,
   "id": "193ff056",
   "metadata": {},
   "outputs": [],
   "source": []
  }
 ],
 "metadata": {
  "kernelspec": {
   "display_name": "Python (venv_name)",
   "language": "python",
   "name": "venv_name"
  }
 },
 "nbformat": 4,
 "nbformat_minor": 5
}
