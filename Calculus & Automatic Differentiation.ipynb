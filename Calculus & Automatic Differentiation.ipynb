{
 "cells": [
  {
   "cell_type": "markdown",
   "id": "75da839c",
   "metadata": {},
   "source": [
    "# Calculus\n",
    "\n",
    "For a long time, how to calculate the area of a circle remained a mystery. Then, in Ancient Greece, the mathematician Archimedes came up with the clever idea to inscribe a series of polygons with increasing numbers of vertices on the inside of a circle.\n",
    "\n",
    "For a polygon with *n* vertices, we obtain *n* triangles. The height of each triangle approaches the radius *r* as we partition the circle more finely. At the same time, its base approaches 2𝜋𝑟/𝑛, since the ratio between arc and secant approaches 1 for a large number of vertices. Thus, the area of the polygon approaches *n* * *r* * 1/2(2𝜋𝑟/𝑛) = 𝜋𝑟<sup>2</sup>. This can also be described as finding the area of a circle by a limit procedure. \n",
    "\n",
    "This limit procedure is at the root of both **differential calculus** and **integral calculus**. The former can tell us how to increase or decrease a function's value by manipulating its arguments. This comes in handy for the *optimization problems* that we face in deep learning, where we repeatedly update our paramters in order to decrease the loss function. Optimization addresses how to fit our models to training data, and calculus is its key prerequisite. However, it's important not to forget that our ultimate goal is to perform well on **previously unseen** data. That problem is called **generalization**. "
   ]
  },
  {
   "cell_type": "code",
   "execution_count": null,
   "id": "193ff056",
   "metadata": {},
   "outputs": [],
   "source": [
    "%matplotlib inline\n",
    "import numpy as np\n",
    "import matplotlib.pyplot as plt\n",
    "from matplotlib_inline import backend_inline"
   ]
  },
  {
   "cell_type": "markdown",
   "id": "1c77db50",
   "metadata": {},
   "source": [
    "## Derivatives and Differentiation\n",
    "\n",
    "Simply put, a **derivative** is a rate of change in a function with respect to changes in its arguments. Derivatives can tell us how rapidly a loss function would increase or decrease were we to increase or decrease each parameter by an infintesimally small amount. Formally, for functions f: R --> R, that map from scalars to scalars, the derivative of f at a point x is defined as f<sup>'</sup>(x) = lim<sub>h->0</sub> f(x + h) - f(x) / h\n",
    "\n",
    "This term on the right hand side is called a **limit** and it tells us what happens to the value of an expression as a specified variable approaches a particular value. This limit tells us what the ratio between a pertubation *h* and the change in the function value f(x + h) - f(x) converges to as we shrink its size to zero. \n",
    "\n",
    "When f<sup>'</sup>(x) exists, f is said to be **differentiable** at x: and when *f*<sup>'</sup>(x) exists for all x on a set, e.g., the interval [a,b], *we say that *f is differentiable on this set.* Not all functions are differentiable, including many that we wish to optimize, such as accuracy and the area under the receiving operating characteristic (AUC). However, because computing the derivative of the loss is a crucial step in nearly all algorithms for training deep neural networks, we often optimize a **differentiable surrogate** instead. \n",
    "\n",
    "We can interpret the derivative f<sup>'</sup>(x) as the **instantaneous rate of change** of f(x) with respect to x. Let's solidify our understanding with an example. Let's define u = f(x) = 3x<sup>2</sup> - 4x."
   ]
  },
  {
   "cell_type": "code",
   "execution_count": null,
   "id": "bf577f42-f990-4b9b-95bb-cc4c03b5ed10",
   "metadata": {},
   "outputs": [],
   "source": [
    "def f(x):\n",
    "    return 3 * x ** 2 - 4 * x"
   ]
  },
  {
   "cell_type": "markdown",
   "id": "e7941131",
   "metadata": {},
   "source": [
    "Setting x = 1, we see that f(x + h) - f(x) / h approaches 2 as h approaches 0. While this experiment lacks the rigor of a mathematical proof, we can quickly see that indeed f<sup>'</sup>(1) = 2"
   ]
  },
  {
   "cell_type": "code",
   "execution_count": null,
   "id": "7c45c2af",
   "metadata": {},
   "outputs": [],
   "source": [
    "for h in 10.0**np.arange(-1, -6, -1):\n",
    "    print(f'h={h:.5f}, numerical limit={(f(1+h)-f(1))/h:.5f}')"
   ]
  },
  {
   "cell_type": "markdown",
   "id": "0651e2fb",
   "metadata": {},
   "source": [
    "There are several equivalent notational conventions for derivatives. Given y = f(x), the following expressions are equivalent: f<sup>'</sup>(x) = y<sup>'</sup> = (dy / dx) = (df / dx) = (d / dx) f(x) = Df(x) = D<sub>x</sub>f(x),\n",
    "\n",
    "where the symbols d / dx and D are **differentiation operators**. Below, we present the derivatives of some common functions:\n",
    "\n",
    "(d / dx)C = 0\n",
    "\n",
    "(d / dx)x<sup>n</sup> = nx<sup>n - 1</sup> for n ≠ 0\n",
    "\n",
    "(d / dx)e<sup>x</sup> = e<sup>x</sup>\n",
    "\n",
    "(d / dx)ln x = x<sup>-1</sup>\n",
    "\n",
    "Functions composed from differentiable functions are often themselves differentiable. The following rules come in handy for working with compositions of any differetial functions f and g, and constant C. See the **Constant multiple rule**, the **Sum rule**, the **Product rule**, and the **Quotient rule**. \n",
    "\n",
    "Using this, we can apply the rules to find the derivative of 3x<sup>2</sup> - 4x via: (d / dx)[3x<sup>2</sup> - 4x] = 3(d / dx)x<sup>2</sup> - 4(d / dx)x = 6x - 4.\n",
    "\n",
    "Plugging in x = 1 shows that, indeed, the derivative equals 2 at this location. Not that derivatives tell us the **slope** of a function at a particular location. "
   ]
  },
  {
   "cell_type": "markdown",
   "id": "14c3276c",
   "metadata": {},
   "source": [
    "## Visualization Utilities\n",
    "\n",
    "We can visualize the slopes of functions using the `matplotlib` library. We need to define a few functions. As its name indicates, `use_svg_display` tells `matplotlib` to output graphics in SVG format for crisper images. "
   ]
  },
  {
   "cell_type": "code",
   "execution_count": null,
   "id": "f513eea6",
   "metadata": {},
   "outputs": [],
   "source": [
    "def use_svg_display():\n",
    "    \"\"\"Set the figure size for matplotlib.\"\"\"\n",
    "    use_svg_display()\n",
    "    plt.rcParams['figure.figsize'] = figsize"
   ]
  },
  {
   "cell_type": "markdown",
   "id": "4119142d",
   "metadata": {},
   "source": [
    "Conveniently, we can set figure sizes with `plt.rcParams['figure.figsize'] = figsize` "
   ]
  },
  {
   "cell_type": "code",
   "execution_count": null,
   "id": "2b7ea41b",
   "metadata": {},
   "outputs": [],
   "source": [
    "def set_axes(axes, xlabel, ylabel, xlim, ylim, xscale, yscale, legend):\n",
    "    \"\"\"Set the axes for matplotlib.\"\"\"\n",
    "    axes.set_xlabel(xlabel), axes.set_ylabel(ylabel)\n",
    "    axes.set_xscale(xscale), axes.set_yscale(yscale)\n",
    "    axes.set_xlim(xlim), axes.set_ylim(ylim)\n",
    "    if legend:\n",
    "        axes.legend(legend)\n",
    "    axes.grid()"
   ]
  },
  {
   "cell_type": "markdown",
   "id": "6438e723",
   "metadata": {},
   "source": [
    "The `set_axes` function can associate axes with properties, including labels, ranges, and scales.\n",
    "\n",
    "With these three functions, we can definite a `plot` function to overlay multiple curves. Much of the code here is just ensuring that the sizes and shapes of the inputs match. "
   ]
  },
  {
   "cell_type": "code",
   "execution_count": null,
   "id": "a8621b98",
   "metadata": {},
   "outputs": [],
   "source": [
    "def plot(X, Y=None, xlabel=None, ylabel=None, legend=[], xlim=None, \n",
    "        ylim=None, xscale='linear', yscale='linear', \n",
    "        fmts=('-', 'm--', 'g-.', 'r:'), figsize=(3.5, 2.5), axes=None):\n",
    "    \"\"\"Plot data points\"\"\"\n",
    "    \n",
    "    if isinstance(X, np.ndarray) and X.ndim == 1:\n",
    "        X = [X]\n",
    "    if Y is None:\n",
    "        X, Y = [[]] * len(X), X\n",
    "    elif isinstance(Y, np.ndarray) and Y.ndim == 1:\n",
    "        Y = [Y]\n",
    "    if len(X) != len(Y):\n",
    "        X = X * len(Y)\n",
    "    \n",
    "    plt.figure(figsize=figsize)\n",
    "    if axes is None:\n",
    "        axes = plt.gca()\n",
    "    axes.cla()\n",
    "    for x, y, fmt in zip(X, Y, fmts):\n",
    "        axes.plot(x, y, fmt) if len(x) else axes.plot(y, fmt)\n",
    "    axes.set_xlabel(xlabel)\n",
    "    axes.set_ylabel(ylabel)\n",
    "    axes.set_xscale(xscale)\n",
    "    axes.set_yscale(yscale)\n",
    "    if xlim:\n",
    "        axes.set_xlim(xlim)\n",
    "    if ylim:\n",
    "        axes.set_ylim(ylim)\n",
    "    if legend:\n",
    "        axes.legend(legend)\n",
    "    axes.grid()\n",
    "    plt.show"
   ]
  },
  {
   "cell_type": "code",
   "execution_count": null,
   "id": "5f315be9",
   "metadata": {},
   "outputs": [],
   "source": [
    "x = np.arange(0, 3, 0.1)\n",
    "y = f(x)\n",
    "tangent_line = 2 * x - 3\n",
    "\n",
    "plot(x, [y, tangent_line], xlabel='x', ylabel='f(x)', legend=['f(x)', 'Tangent line (x=1)'])"
   ]
  },
  {
   "cell_type": "code",
   "execution_count": null,
   "id": "b6ccb489",
   "metadata": {},
   "outputs": [],
   "source": []
  }
 ],
 "metadata": {
  "kernelspec": {
   "display_name": "Python (venv)",
   "language": "python",
   "name": "venv"
  },
  "language_info": {
   "codemirror_mode": {
    "name": "ipython",
    "version": 3
   },
   "file_extension": ".py",
   "mimetype": "text/x-python",
   "name": "python",
   "nbconvert_exporter": "python",
   "pygments_lexer": "ipython3",
   "version": "3.12.3"
  }
 },
 "nbformat": 4,
 "nbformat_minor": 5
}
